{
 "cells": [
  {
   "cell_type": "code",
   "execution_count": 1,
   "metadata": {},
   "outputs": [],
   "source": [
    "import pandas as pd\n",
    "import pymongo\n",
    "import uuid"
   ]
  },
  {
   "cell_type": "code",
   "execution_count": 28,
   "metadata": {},
   "outputs": [],
   "source": [
    "def get_books_dataframe():\n",
    "    df = pd.read_csv(\n",
    "        \"books_data/books.csv\",\n",
    "        sep=\";\",\n",
    "        on_bad_lines=\"skip\",\n",
    "        encoding=\"latin-1\",\n",
    "    )\n",
    "\n",
    "    return df[[\"ISBN\", \"Book-Title\", \"Book-Author\", \"Year-Of-Publication\"]].rename(\n",
    "        columns={\n",
    "            \"ISBN\": \"isbn\",\n",
    "            \"Book-Title\": \"title\",\n",
    "            \"Book-Author\": \"author\",\n",
    "            \"Year-Of-Publication\": \"year\",\n",
    "        }\n",
    "    )\n",
    "\n",
    "\n",
    "def get_books_authors_relations(df):\n",
    "    authors_map = {author: uuid.uuid4().hex for author in df[\"author\"].unique().tolist()}\n",
    "    author_book = df[[\"author\", \"isbn\"]]\n",
    "    author_book[\"author_id\"] = author_book[\"author\"].map(authors_map)\n",
    "\n",
    "    books = df[[\"isbn\", \"title\", \"year\"]].to_dict(orient=\"records\")\n",
    "    authors = (\n",
    "        author_book[[\"author_id\", \"author\"]]\n",
    "        .drop_duplicates()\n",
    "        .rename(columns={\"author\": \"name\"})\n",
    "        .to_dict(orient=\"records\")\n",
    "    )\n",
    "    authors_book = author_book[[\"author_id\", \"isbn\"]].to_dict(orient=\"records\")\n",
    "\n",
    "    return books, authors, authors_book"
   ]
  },
  {
   "attachments": {},
   "cell_type": "markdown",
   "metadata": {},
   "source": [
    "# Mongo DB"
   ]
  },
  {
   "cell_type": "code",
   "execution_count": 3,
   "metadata": {},
   "outputs": [],
   "source": [
    "my_client = pymongo.MongoClient(\"mongodb://localhost:27017/\")"
   ]
  },
  {
   "cell_type": "code",
   "execution_count": 4,
   "metadata": {},
   "outputs": [],
   "source": [
    "db = my_client[\"books_db\"]"
   ]
  },
  {
   "attachments": {},
   "cell_type": "markdown",
   "metadata": {},
   "source": [
    "## Query elements"
   ]
  },
  {
   "cell_type": "code",
   "execution_count": 21,
   "metadata": {},
   "outputs": [],
   "source": [
    "def insert_from_dataframe(df, db):\n",
    "    books, authors, authors_book = get_books_authors_relations(df)\n",
    "\n",
    "    db.books.insert_many(books)\n",
    "    db.authors.insert_many(authors)\n",
    "    db.authors_book.insert_many(authors_book)"
   ]
  },
  {
   "cell_type": "code",
   "execution_count": 54,
   "metadata": {},
   "outputs": [
    {
     "name": "stderr",
     "output_type": "stream",
     "text": [
      "/tmp/ipykernel_42808/892124343.py:2: DtypeWarning: Columns (3) have mixed types. Specify dtype option on import or set low_memory=False.\n",
      "  df = pd.read_csv(\n"
     ]
    },
    {
     "data": {
      "text/html": [
       "<div>\n",
       "<style scoped>\n",
       "    .dataframe tbody tr th:only-of-type {\n",
       "        vertical-align: middle;\n",
       "    }\n",
       "\n",
       "    .dataframe tbody tr th {\n",
       "        vertical-align: top;\n",
       "    }\n",
       "\n",
       "    .dataframe thead th {\n",
       "        text-align: right;\n",
       "    }\n",
       "</style>\n",
       "<table border=\"1\" class=\"dataframe\">\n",
       "  <thead>\n",
       "    <tr style=\"text-align: right;\">\n",
       "      <th></th>\n",
       "      <th>isbn</th>\n",
       "      <th>title</th>\n",
       "      <th>author</th>\n",
       "      <th>year</th>\n",
       "    </tr>\n",
       "  </thead>\n",
       "  <tbody>\n",
       "    <tr>\n",
       "      <th>0</th>\n",
       "      <td>0195153448</td>\n",
       "      <td>Classical Mythology</td>\n",
       "      <td>Mark P. O. Morford</td>\n",
       "      <td>2002</td>\n",
       "    </tr>\n",
       "    <tr>\n",
       "      <th>1</th>\n",
       "      <td>0002005018</td>\n",
       "      <td>Clara Callan</td>\n",
       "      <td>Richard Bruce Wright</td>\n",
       "      <td>2001</td>\n",
       "    </tr>\n",
       "    <tr>\n",
       "      <th>2</th>\n",
       "      <td>0060973129</td>\n",
       "      <td>Decision in Normandy</td>\n",
       "      <td>Carlo D'Este</td>\n",
       "      <td>1991</td>\n",
       "    </tr>\n",
       "    <tr>\n",
       "      <th>3</th>\n",
       "      <td>0374157065</td>\n",
       "      <td>Flu: The Story of the Great Influenza Pandemic...</td>\n",
       "      <td>Gina Bari Kolata</td>\n",
       "      <td>1999</td>\n",
       "    </tr>\n",
       "    <tr>\n",
       "      <th>4</th>\n",
       "      <td>0393045218</td>\n",
       "      <td>The Mummies of Urumchi</td>\n",
       "      <td>E. J. W. Barber</td>\n",
       "      <td>1999</td>\n",
       "    </tr>\n",
       "  </tbody>\n",
       "</table>\n",
       "</div>"
      ],
      "text/plain": [
       "         isbn                                              title  \\\n",
       "0  0195153448                                Classical Mythology   \n",
       "1  0002005018                                       Clara Callan   \n",
       "2  0060973129                               Decision in Normandy   \n",
       "3  0374157065  Flu: The Story of the Great Influenza Pandemic...   \n",
       "4  0393045218                             The Mummies of Urumchi   \n",
       "\n",
       "                 author  year  \n",
       "0    Mark P. O. Morford  2002  \n",
       "1  Richard Bruce Wright  2001  \n",
       "2          Carlo D'Este  1991  \n",
       "3      Gina Bari Kolata  1999  \n",
       "4       E. J. W. Barber  1999  "
      ]
     },
     "execution_count": 54,
     "metadata": {},
     "output_type": "execute_result"
    }
   ],
   "source": [
    "df = get_books_dataframe()\n",
    "insert_from_dataframe(df[:100], db)\n",
    "df.head()"
   ]
  },
  {
   "cell_type": "code",
   "execution_count": 25,
   "metadata": {},
   "outputs": [
    {
     "data": {
      "text/plain": [
       "{'_id': ObjectId('654575fff98b4d393b98e18f'),\n",
       " 'author_id': '02c79343d4274fe3a82f326f9d2a271f',\n",
       " 'name': 'MARK P. O. MORFORD'}"
      ]
     },
     "execution_count": 25,
     "metadata": {},
     "output_type": "execute_result"
    }
   ],
   "source": [
    "author_1 = db.authors.find_one({\"name\": \"Mark P. O. Morford\"})\n",
    "author_2 = db.authors.find_one({\"name\": \"Richard Bruce Wright\"})\n",
    "\n",
    "db.authors.update_one({\"_id\": author_1[\"_id\"]}, {\"$set\": {\"name\": author_1[\"name\"].upper()}})\n",
    "db.authors.update_one({\"_id\": author_2[\"_id\"]}, {\"$set\": {\"name\": author_2[\"name\"].upper()}})\n",
    "\n",
    "db.authors.find_one({\"name\": \"MARK P. O. MORFORD\"})"
   ]
  },
  {
   "cell_type": "code",
   "execution_count": 69,
   "metadata": {},
   "outputs": [
    {
     "data": {
      "text/plain": [
       "{'_id': ObjectId('654575fff98b4d393b98e12b'),\n",
       " 'isbn': '0195153448',\n",
       " 'title': 'Classical Mythology',\n",
       " 'year': 2002}"
      ]
     },
     "execution_count": 69,
     "metadata": {},
     "output_type": "execute_result"
    }
   ],
   "source": [
    "author_id = db.authors.find_one({\"name\": \"MARK P. O. MORFORD\"})[\"author_id\"]\n",
    "\n",
    "list(\n",
    "    db.authors_book.aggregate(\n",
    "        [\n",
    "            {\n",
    "                \"$lookup\": {\n",
    "                    \"from\": \"books\",\n",
    "                    \"localField\": \"isbn\",\n",
    "                    \"foreignField\": \"isbn\",\n",
    "                    \"as\": \"book\",\n",
    "                }\n",
    "            },\n",
    "            {\n",
    "                \"$match\": {\n",
    "                    # \"author_id\": author_id,\n",
    "                    \"book.year\": {\"$gt\": 2001},\n",
    "                    \"book.title\": {\"$regex\": \"^The\"},\n",
    "                }\n",
    "            },\n",
    "        ]\n",
    "    )\n",
    ")\n",
    "\n",
    "db.books.find_one({\"isbn\": \"0195153448\"})"
   ]
  },
  {
   "cell_type": "code",
   "execution_count": 20,
   "metadata": {},
   "outputs": [
    {
     "data": {
      "text/plain": [
       "DeleteResult({'n': 100, 'ok': 1.0}, acknowledged=True)"
      ]
     },
     "execution_count": 20,
     "metadata": {},
     "output_type": "execute_result"
    }
   ],
   "source": [
    "db.books.delete_many({})\n",
    "db.authors.delete_many({})\n",
    "db.authors_book.delete_many({})"
   ]
  },
  {
   "attachments": {},
   "cell_type": "markdown",
   "metadata": {},
   "source": [
    "# Neo4j"
   ]
  },
  {
   "cell_type": "code",
   "execution_count": null,
   "metadata": {},
   "outputs": [],
   "source": [
    "df = get_books_dataframe()"
   ]
  },
  {
   "cell_type": "code",
   "execution_count": 13,
   "metadata": {},
   "outputs": [],
   "source": [
    "from neo4j import GraphDatabase\n",
    "\n",
    "uri = \"neo4j://localhost:7687\"\n",
    "user = \"neo4j\"\n",
    "password = \"Deusto123\"\n",
    "\n",
    "driver = GraphDatabase.driver(uri, auth=(user, password))"
   ]
  },
  {
   "cell_type": "code",
   "execution_count": 68,
   "metadata": {},
   "outputs": [],
   "source": [
    "def create_book(tx, isbn, year, title):\n",
    "    query = r\"CREATE (b:Book {isbn: $isbn, year: $year, title: $title})\"\n",
    "    tx.run(query, isbn=isbn, year=year, title=title)\n",
    "\n",
    "\n",
    "def create_author(tx, author_id, name):\n",
    "    query = r\"CREATE (a:Author {id: $author_id, name: $name})\"\n",
    "    tx.run(query, author_id=author_id, name=name)\n",
    "\n",
    "\n",
    "def create_relationship(tx, isbn, author_id):\n",
    "    query = r\"\"\"\n",
    "    MATCH (b:Book), (a:Author)\n",
    "    WHERE b.isbn = $isbn AND a.id = $author_id\n",
    "    CREATE (b)-[:ESCRITO_POR]->(a)\n",
    "    \"\"\"\n",
    "    tx.run(query, isbn=isbn, author_id=author_id)\n",
    "\n",
    "\n",
    "def update_author_name_to_uppercase(tx, name):\n",
    "    query = r\"\"\"\n",
    "    MATCH (a:Author)\n",
    "    WHERE a.name = $name\n",
    "    SET a.name = toUPPER(a.name)\n",
    "    \"\"\"\n",
    "    tx.run(query, name=name)\n",
    "\n",
    "\n",
    "def get_book_by_author_name(tx, name, year, prefix):\n",
    "    query = r\"\"\"\n",
    "    MATCH p=(b:Book)-[r:ESCRITO_POR]->(a:Author)\n",
    "    WHERE b.title STARTS WITH $prefix AND b.year > $year \n",
    "    AND a.name = $name\n",
    "    RETURN b \n",
    "    \"\"\"\n",
    "    result = tx.run(query, name=name, year=year, prefix=prefix)\n",
    "    return [r.data()[\"b\"] for r in result]\n",
    "\n",
    "\n",
    "def get_book_by_isbn(tx, isbn):\n",
    "    query = r\"\"\"\n",
    "    MATCH (b: Book)\n",
    "    WHERE b.isbn = $isbn\n",
    "    RETURN b\n",
    "    \"\"\"\n",
    "    result = tx.run(query, isbn=isbn)\n",
    "    return [r.data()[\"b\"] for r in result]\n",
    "\n",
    "\n",
    "def delete_all_data(tx):\n",
    "    query = \"MATCH (n) DETACH DELETE n\"\n",
    "    tx.run(query)"
   ]
  },
  {
   "cell_type": "code",
   "execution_count": 59,
   "metadata": {},
   "outputs": [
    {
     "name": "stderr",
     "output_type": "stream",
     "text": [
      "/tmp/ipykernel_4038/1119965467.py:22: SettingWithCopyWarning: \n",
      "A value is trying to be set on a copy of a slice from a DataFrame.\n",
      "Try using .loc[row_indexer,col_indexer] = value instead\n",
      "\n",
      "See the caveats in the documentation: https://pandas.pydata.org/pandas-docs/stable/user_guide/indexing.html#returning-a-view-versus-a-copy\n",
      "  author_book[\"author_id\"] = author_book[\"author\"].map(authors_map)\n"
     ]
    }
   ],
   "source": [
    "books, authors, authors_book = get_books_authors_relations(df[:100])\n",
    "\n",
    "with driver.session() as session:\n",
    "    session.execute_write(delete_all_data)\n",
    "\n",
    "    for book in books:\n",
    "        session.execute_write(create_book, **book)\n",
    "\n",
    "    for author in authors:\n",
    "        session.execute_write(create_author, **author)\n",
    "\n",
    "    for author_book in authors_book:\n",
    "        session.execute_write(create_relationship, **author_book)"
   ]
  },
  {
   "cell_type": "code",
   "execution_count": 69,
   "metadata": {},
   "outputs": [],
   "source": [
    "with driver.session() as session:\n",
    "    session.execute_write(update_author_name_to_uppercase, name=\"Mark P. O. Morford\")"
   ]
  },
  {
   "cell_type": "code",
   "execution_count": 65,
   "metadata": {},
   "outputs": [
    {
     "name": "stdout",
     "output_type": "stream",
     "text": [
      "[{'year': 2003, 'isbn': '0375509038', 'title': 'The Right Man : The Surprise Presidency of George W. Bush'}] [{'year': 2003, 'isbn': '0375509038', 'title': 'The Right Man : The Surprise Presidency of George W. Bush'}]\n"
     ]
    }
   ],
   "source": [
    "with driver.session() as session:\n",
    "    author_name = \"DAVID FRUM\"\n",
    "    year = 2001\n",
    "    prefix = \"The\"\n",
    "    value = session.execute_read(get_book_by_author_name, author_name, year, prefix)\n",
    "    book = session.execute_read(get_book_by_isbn, value[0][\"isbn\"])\n",
    "\n",
    "    print(book, value)"
   ]
  }
 ],
 "metadata": {
  "kernelspec": {
   "display_name": ".venv",
   "language": "python",
   "name": "python3"
  },
  "language_info": {
   "codemirror_mode": {
    "name": "ipython",
    "version": 3
   },
   "file_extension": ".py",
   "mimetype": "text/x-python",
   "name": "python",
   "nbconvert_exporter": "python",
   "pygments_lexer": "ipython3",
   "version": "3.11.4"
  },
  "orig_nbformat": 4
 },
 "nbformat": 4,
 "nbformat_minor": 2
}
