{
 "cells": [
  {
   "cell_type": "code",
   "execution_count": 1,
   "metadata": {},
   "outputs": [],
   "source": [
    "import pandas as pd\n",
    "import pymongo\n",
    "import uuid"
   ]
  },
  {
   "cell_type": "code",
   "execution_count": 28,
   "metadata": {},
   "outputs": [],
   "source": [
    "def get_books_dataframe():\n",
    "    df = pd.read_csv(\n",
    "        \"books_data/books.csv\",\n",
    "        sep=\";\",\n",
    "        on_bad_lines=\"skip\",\n",
    "        encoding=\"latin-1\",\n",
    "    )\n",
    "\n",
    "    return df[[\"ISBN\", \"Book-Title\", \"Book-Author\", \"Year-Of-Publication\"]].rename(\n",
    "        columns={\n",
    "            \"ISBN\": \"isbn\",\n",
    "            \"Book-Title\": \"title\",\n",
    "            \"Book-Author\": \"author\",\n",
    "            \"Year-Of-Publication\": \"year\",\n",
    "        }\n",
    "    )\n",
    "\n",
    "\n",
    "def get_books_authors_relations(df):\n",
    "    authors_map = {author: uuid.uuid4().hex for author in df[\"author\"].unique().tolist()}\n",
    "    author_book = df[[\"author\", \"isbn\"]]\n",
    "    author_book[\"author_id\"] = author_book[\"author\"].map(authors_map)\n",
    "\n",
    "    books = df[[\"isbn\", \"title\", \"year\"]].to_dict(orient=\"records\")\n",
    "    authors = (\n",
    "        author_book[[\"author_id\", \"author\"]]\n",
    "        .drop_duplicates()\n",
    "        .rename(columns={\"author\": \"name\"})\n",
    "        .to_dict(orient=\"records\")\n",
    "    )\n",
    "    authors_book = author_book[[\"author_id\", \"isbn\"]].to_dict(orient=\"records\")\n",
    "\n",
    "    return books, authors, authors_book"
   ]
  },
  {
   "attachments": {},
   "cell_type": "markdown",
   "metadata": {},
   "source": [
    "# Mongo DB"
   ]
  },
  {
   "cell_type": "code",
   "execution_count": 17,
   "metadata": {},
   "outputs": [],
   "source": [
    "my_client = pymongo.MongoClient(\"mongodb://localhost:27017/\")"
   ]
  },
  {
   "cell_type": "code",
   "execution_count": 18,
   "metadata": {},
   "outputs": [],
   "source": [
    "db = my_client[\"books_db\"]"
   ]
  },
  {
   "attachments": {},
   "cell_type": "markdown",
   "metadata": {},
   "source": [
    "## Query elements"
   ]
  },
  {
   "cell_type": "code",
   "execution_count": 21,
   "metadata": {},
   "outputs": [],
   "source": [
    "def insert_from_dataframe(df, db):\n",
    "    books, authors, authors_book = get_books_authors_relations(df)\n",
    "\n",
    "    db.books.insert_many(books)\n",
    "    db.authors.insert_many(authors)\n",
    "    db.authors_book.insert_many(authors_book)\n",
    "\n",
    "\n",
    "df = get_books_dataframe()\n",
    "insert_from_dataframe(df[:100], db)"
   ]
  },
  {
   "cell_type": "code",
   "execution_count": 25,
   "metadata": {},
   "outputs": [
    {
     "data": {
      "text/plain": [
       "{'_id': ObjectId('654575fff98b4d393b98e18f'),\n",
       " 'author_id': '02c79343d4274fe3a82f326f9d2a271f',\n",
       " 'name': 'MARK P. O. MORFORD'}"
      ]
     },
     "execution_count": 25,
     "metadata": {},
     "output_type": "execute_result"
    }
   ],
   "source": [
    "author_1 = db.authors.find_one({\"name\": \"Mark P. O. Morford\"})\n",
    "author_2 = db.authors.find_one({\"name\": \"Richard Bruce Wright\"})\n",
    "\n",
    "db.authors.update_one({\"_id\": author_1[\"_id\"]}, {\"$set\": {\"name\": author_1[\"name\"].upper()}})\n",
    "db.authors.update_one({\"_id\": author_2[\"_id\"]}, {\"$set\": {\"name\": author_2[\"name\"].upper()}})\n",
    "\n",
    "db.authors.find_one({\"name\": \"MARK P. O. MORFORD\"})"
   ]
  },
  {
   "cell_type": "code",
   "execution_count": 20,
   "metadata": {},
   "outputs": [
    {
     "name": "stdout",
     "output_type": "stream",
     "text": [
      "1.41 ms ± 95.6 µs per loop (mean ± std. dev. of 7 runs, 1,000 loops each)\n"
     ]
    }
   ],
   "source": [
    "def queary_book():\n",
    "    author_name = \"DAVID FRUM\"\n",
    "    year = 2020\n",
    "    prefix = \"The\"\n",
    "\n",
    "    author_id = db.authors.find_one({\"name\": author_name})[\"author_id\"]\n",
    "    db.authors_book.aggregate(\n",
    "        [\n",
    "            {\n",
    "                \"$lookup\": {\n",
    "                    \"from\": \"books\",\n",
    "                    \"localField\": \"isbn\",\n",
    "                    \"foreignField\": \"isbn\",\n",
    "                    \"as\": \"book\",\n",
    "                }\n",
    "            },\n",
    "            {\n",
    "                \"$match\": {\n",
    "                    \"author_id\": author_id,\n",
    "                    \"book.year\": {\"$gt\": year},\n",
    "                    \"book.title\": {\"$regex\": rf\"^{prefix}\"},\n",
    "                }\n",
    "            },\n",
    "        ]\n",
    "    )\n",
    "\n",
    "%timeit queary_book() "
   ]
  },
  {
   "cell_type": "code",
   "execution_count": 19,
   "metadata": {},
   "outputs": [
    {
     "name": "stdout",
     "output_type": "stream",
     "text": [
      "421 µs ± 19.9 µs per loop (mean ± std. dev. of 7 runs, 1,000 loops each)\n"
     ]
    }
   ],
   "source": [
    "%timeit db.books.find_one({\"isbn\": \"0195153448\"})"
   ]
  },
  {
   "cell_type": "code",
   "execution_count": 20,
   "metadata": {},
   "outputs": [
    {
     "data": {
      "text/plain": [
       "DeleteResult({'n': 100, 'ok': 1.0}, acknowledged=True)"
      ]
     },
     "execution_count": 20,
     "metadata": {},
     "output_type": "execute_result"
    }
   ],
   "source": [
    "db.books.delete_many({})\n",
    "db.authors.delete_many({})\n",
    "db.authors_book.delete_many({})"
   ]
  },
  {
   "attachments": {},
   "cell_type": "markdown",
   "metadata": {},
   "source": [
    "# Neo4j"
   ]
  },
  {
   "cell_type": "code",
   "execution_count": 2,
   "metadata": {},
   "outputs": [
    {
     "ename": "NameError",
     "evalue": "name 'get_books_dataframe' is not defined",
     "output_type": "error",
     "traceback": [
      "\u001b[0;31m---------------------------------------------------------------------------\u001b[0m",
      "\u001b[0;31mNameError\u001b[0m                                 Traceback (most recent call last)",
      "Cell \u001b[0;32mIn[2], line 1\u001b[0m\n\u001b[0;32m----> 1\u001b[0m df \u001b[39m=\u001b[39m get_books_dataframe()\n",
      "\u001b[0;31mNameError\u001b[0m: name 'get_books_dataframe' is not defined"
     ]
    }
   ],
   "source": [
    "df = get_books_dataframe()"
   ]
  },
  {
   "cell_type": "code",
   "execution_count": 4,
   "metadata": {},
   "outputs": [],
   "source": [
    "from neo4j import GraphDatabase\n",
    "\n",
    "uri = \"neo4j://localhost:7687\"\n",
    "user = \"neo4j\"\n",
    "password = \"Deusto123\"\n",
    "\n",
    "driver = GraphDatabase.driver(uri, auth=(user, password))"
   ]
  },
  {
   "cell_type": "code",
   "execution_count": 3,
   "metadata": {},
   "outputs": [],
   "source": [
    "def create_book(tx, isbn, year, title):\n",
    "    query = r\"CREATE (b:Book {isbn: $isbn, year: $year, title: $title})\"\n",
    "    tx.run(query, isbn=isbn, year=year, title=title)\n",
    "\n",
    "\n",
    "def create_author(tx, author_id, name):\n",
    "    query = r\"CREATE (a:Author {id: $author_id, name: $name})\"\n",
    "    tx.run(query, author_id=author_id, name=name)\n",
    "\n",
    "\n",
    "def create_relationship(tx, isbn, author_id):\n",
    "    query = r\"\"\"\n",
    "    MATCH (b:Book), (a:Author)\n",
    "    WHERE b.isbn = $isbn AND a.id = $author_id\n",
    "    CREATE (b)-[:ESCRITO_POR]->(a)\n",
    "    \"\"\"\n",
    "    tx.run(query, isbn=isbn, author_id=author_id)\n",
    "\n",
    "\n",
    "def update_author_name_to_uppercase(tx, name):\n",
    "    query = r\"\"\"\n",
    "    MATCH (a:Author)\n",
    "    WHERE a.name = $name\n",
    "    SET a.name = toUPPER(a.name)\n",
    "    \"\"\"\n",
    "    tx.run(query, name=name)\n",
    "\n",
    "\n",
    "def get_book_by_author_name(tx, name, year, prefix):\n",
    "    query = r\"\"\"\n",
    "    MATCH p=(b:Book)-[r:ESCRITO_POR]->(a:Author)\n",
    "    WHERE b.title STARTS WITH $prefix AND b.year > $year \n",
    "    AND a.name = $name\n",
    "    RETURN b \n",
    "    \"\"\"\n",
    "    result = tx.run(query, name=name, year=year, prefix=prefix)\n",
    "    return [r.data()[\"b\"] for r in result]\n",
    "\n",
    "\n",
    "def get_book_by_isbn(tx, isbn):\n",
    "    query = r\"\"\"\n",
    "    MATCH (b: Book)\n",
    "    WHERE b.isbn = $isbn\n",
    "    RETURN b\n",
    "    \"\"\"\n",
    "    result = tx.run(query, isbn=isbn)\n",
    "    return [r.data()[\"b\"] for r in result]\n",
    "\n",
    "\n",
    "def delete_all_data(tx):\n",
    "    query = \"MATCH (n) DETACH DELETE n\"\n",
    "    tx.run(query)"
   ]
  },
  {
   "cell_type": "code",
   "execution_count": 59,
   "metadata": {},
   "outputs": [
    {
     "name": "stderr",
     "output_type": "stream",
     "text": [
      "/tmp/ipykernel_4038/1119965467.py:22: SettingWithCopyWarning: \n",
      "A value is trying to be set on a copy of a slice from a DataFrame.\n",
      "Try using .loc[row_indexer,col_indexer] = value instead\n",
      "\n",
      "See the caveats in the documentation: https://pandas.pydata.org/pandas-docs/stable/user_guide/indexing.html#returning-a-view-versus-a-copy\n",
      "  author_book[\"author_id\"] = author_book[\"author\"].map(authors_map)\n"
     ]
    }
   ],
   "source": [
    "books, authors, authors_book = get_books_authors_relations(df[:100])\n",
    "\n",
    "with driver.session() as session:\n",
    "    session.execute_write(delete_all_data)\n",
    "\n",
    "    for book in books:\n",
    "        session.execute_write(create_book, **book)\n",
    "\n",
    "    for author in authors:\n",
    "        session.execute_write(create_author, **author)\n",
    "\n",
    "    for author_book in authors_book:\n",
    "        session.execute_write(create_relationship, **author_book)"
   ]
  },
  {
   "cell_type": "code",
   "execution_count": 6,
   "metadata": {},
   "outputs": [
    {
     "name": "stdout",
     "output_type": "stream",
     "text": [
      "13.1 ms ± 1.54 ms per loop (mean ± std. dev. of 7 runs, 10 loops each)\n"
     ]
    }
   ],
   "source": [
    "def make_update():\n",
    "    with driver.session() as session:\n",
    "        session.execute_write(update_author_name_to_uppercase, name=\"Mark P. O. Morford\")\n",
    "        session.execute_write(update_author_name_to_uppercase, name=\"Richard Bruce Wright\")\n",
    "\n",
    "%timeit make_update() "
   ]
  },
  {
   "cell_type": "code",
   "execution_count": 16,
   "metadata": {},
   "outputs": [
    {
     "name": "stdout",
     "output_type": "stream",
     "text": [
      "2.66 ms ± 59.8 µs per loop (mean ± std. dev. of 7 runs, 100 loops each)\n"
     ]
    }
   ],
   "source": [
    "def make_query():\n",
    "    with driver.session() as session:\n",
    "        author_name = \"DAVID FRUM\"\n",
    "        year = 2001\n",
    "        prefix = \"The\"\n",
    "\n",
    "        book = session.execute_read(get_book_by_isbn, \"0375509038\")\n",
    "        # value = session.execute_read(get_book_by_author_name, author_name, year, prefix)\n",
    "%timeit make_query() "
   ]
  }
 ],
 "metadata": {
  "kernelspec": {
   "display_name": ".venv",
   "language": "python",
   "name": "python3"
  },
  "language_info": {
   "codemirror_mode": {
    "name": "ipython",
    "version": 3
   },
   "file_extension": ".py",
   "mimetype": "text/x-python",
   "name": "python",
   "nbconvert_exporter": "python",
   "pygments_lexer": "ipython3",
   "version": "3.11.4"
  },
  "orig_nbformat": 4
 },
 "nbformat": 4,
 "nbformat_minor": 2
}
